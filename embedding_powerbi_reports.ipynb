{
 "cells": [
  {
   "cell_type": "markdown",
   "id": "b2926216",
   "metadata": {},
   "source": [
    "# Importing Libraries"
   ]
  },
  {
   "cell_type": "code",
   "execution_count": 1,
   "id": "603cdb22",
   "metadata": {},
   "outputs": [],
   "source": [
    "from powerbiclient import Report\n",
    "from powerbiclient.authentication import DeviceCodeLoginAuthentication"
   ]
  },
  {
   "cell_type": "markdown",
   "id": "d7155e3c",
   "metadata": {},
   "source": [
    "# Get Group ID and Report ID\n",
    "\n",
    "If you're using Power BI Desktop, publish your Power BI report to your work space. Open the report from your workspace. From the link get the Group ID and the Report ID."
   ]
  },
  {
   "cell_type": "code",
   "execution_count": 2,
   "id": "4fe15b18",
   "metadata": {},
   "outputs": [],
   "source": [
    "group_id = \"e6fe7c8a-317e-40e3-8418-b576798736e2\"\n",
    "report_id = \"b66ec6e0-6216-4307-ae3e-9dc15838a48e\""
   ]
  },
  {
   "cell_type": "markdown",
   "id": "78e0c090",
   "metadata": {},
   "source": [
    "# Authentication\n",
    "\n",
    "Use your account to login and perform the authentication step."
   ]
  },
  {
   "cell_type": "code",
   "execution_count": 3,
   "id": "ede3d12e",
   "metadata": {},
   "outputs": [
    {
     "name": "stdout",
     "output_type": "stream",
     "text": [
      "Performing interactive authentication. Please follow the instructions on the terminal.\n",
      " To sign in, use a web browser to open the page https://microsoft.com/devicelogin and enter the code DC2VHZAAT to authenticate.\n",
      "You have logged in.\n",
      "Interactive authentication successfully completed.\n"
     ]
    }
   ],
   "source": [
    "auth = DeviceCodeLoginAuthentication()"
   ]
  },
  {
   "cell_type": "markdown",
   "id": "9888fe4d",
   "metadata": {},
   "source": [
    "# Load your report\n",
    "\n",
    "Create an instance of the Power BI report using the group_id, report_id and the auth variable. Now you can use the instance to load the report."
   ]
  },
  {
   "cell_type": "code",
   "execution_count": 4,
   "id": "35254417",
   "metadata": {},
   "outputs": [],
   "source": [
    "pbi_report = Report(group_id=group_id, report_id=report_id, auth=auth)"
   ]
  },
  {
   "cell_type": "code",
   "execution_count": 5,
   "id": "400e09d3",
   "metadata": {},
   "outputs": [
    {
     "data": {
      "application/vnd.jupyter.widget-view+json": {
       "model_id": "4882f83baefd49d79f25955585c9abc0",
       "version_major": 2,
       "version_minor": 0
      },
      "text/plain": [
       "Report()"
      ]
     },
     "metadata": {},
     "output_type": "display_data"
    }
   ],
   "source": [
    "pbi_report"
   ]
  },
  {
   "cell_type": "code",
   "execution_count": null,
   "id": "d6af1086",
   "metadata": {},
   "outputs": [],
   "source": []
  }
 ],
 "metadata": {
  "kernelspec": {
   "display_name": "Python 3 (ipykernel)",
   "language": "python",
   "name": "python3"
  },
  "language_info": {
   "codemirror_mode": {
    "name": "ipython",
    "version": 3
   },
   "file_extension": ".py",
   "mimetype": "text/x-python",
   "name": "python",
   "nbconvert_exporter": "python",
   "pygments_lexer": "ipython3",
   "version": "3.9.7"
  }
 },
 "nbformat": 4,
 "nbformat_minor": 5
}
